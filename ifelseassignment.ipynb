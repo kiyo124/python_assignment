{
 "cells": [
  {
   "cell_type": "markdown",
   "id": "fc67d9eb-56db-4524-ab41-b1a7621c1bdc",
   "metadata": {},
   "source": [
    "Q1. Write a program to calculate the electricity bill\n",
    "using only if statement? (accept number of unit from user)\n",
    "according to the following criteria:\n",
    "\n",
    "Unit Price\\\n",
    "First 100 units     &emsp;&emsp;  no charge\\\n",
    "Next 100 units     &emsp; &emsp;  Rs 5 per unit\\\n",
    "After 200 units     &emsp; &emsp; Rs 10 per unit"
   ]
  },
  {
   "cell_type": "code",
   "execution_count": 2,
   "id": "5c5593dc-a301-4137-8bf2-6b7cc5b5fc77",
   "metadata": {},
   "outputs": [
    {
     "name": "stdin",
     "output_type": "stream",
     "text": [
      "Enter your units 350\n"
     ]
    },
    {
     "name": "stdout",
     "output_type": "stream",
     "text": [
      "Electricity bill for 350 units is 2000\n"
     ]
    }
   ],
   "source": [
    "unit = int(input(\"Enter your units\"))\n",
    "bill = 0\n",
    "if unit <= 100:\n",
    "    print(\"for first 100 units no charges\")\n",
    "if unit > 100:\n",
    "    bill+=100*5 + (unit-200)*10\n",
    "print(f\"Electricity bill for {unit} units is {bill}\")\n",
    "\n",
    "    "
   ]
  },
  {
   "cell_type": "markdown",
   "id": "59be3f67-200d-480f-a2ca-1b3dd9836586",
   "metadata": {},
   "source": [
    "Q2. Write a program to accept percentage from the user and display\n",
    "the grade according to the following criteria:\n",
    "\n",
    "Marks Grade\\\n",
    "\\>90&emsp;&emsp;&emsp;&emsp;&emsp;&emsp;&emsp;A\\\n",
    "\\>80 and <= 90 &emsp;&emsp;B\\\n",
    "\\>=60and <= 80&emsp;&emsp;C\\\n",
    "below 60 &emsp;&emsp;&emsp;&emsp;D"
   ]
  },
  {
   "cell_type": "code",
   "execution_count": 3,
   "id": "86426f50-7bdc-4da7-9bf6-2683cb2b133b",
   "metadata": {},
   "outputs": [
    {
     "name": "stdin",
     "output_type": "stream",
     "text": [
      "Enter your Percentage: 95\n"
     ]
    },
    {
     "name": "stdout",
     "output_type": "stream",
     "text": [
      "Your Grade is 'A'.\n"
     ]
    }
   ],
   "source": [
    "percentage = int(input(\"Enter your Percentage:\"))\n",
    "if percentage > 90:\n",
    "    print(\"Your Grade is 'A'.\")\n",
    "elif percentage >80 and percentage <= 90:\n",
    "    print(\"Your Grade is 'B'.\")\n",
    "elif percentage >=60 and percentage <=80:\n",
    "    print(\"Your Grade is 'C'.\")\n",
    "else:\n",
    "    print(\"Your Grade is 'D'.\")"
   ]
  },
  {
   "cell_type": "markdown",
   "id": "738f484d-333b-4144-97b7-ac04a000e966",
   "metadata": {},
   "source": [
    "Q3. Accept the age of 4 people and display the youngest one?"
   ]
  },
  {
   "cell_type": "code",
   "execution_count": 4,
   "id": "4769f1c6-e539-4978-93f2-3d9625009a94",
   "metadata": {},
   "outputs": [
    {
     "name": "stdout",
     "output_type": "stream",
     "text": [
      "Enter age of 4 people :\n"
     ]
    },
    {
     "name": "stdin",
     "output_type": "stream",
     "text": [
      "Enter the age 1 30\n",
      "Enter the age 2 12\n",
      "Enter the age 3 34\n",
      "Enter the age 4 10\n"
     ]
    },
    {
     "name": "stdout",
     "output_type": "stream",
     "text": [
      "Youngest one age is :10\n"
     ]
    }
   ],
   "source": [
    "print(\"Enter age of 4 people :\")\n",
    "age1 = int(input(\"Enter the age 1\"))\n",
    "age2 = int(input(\"Enter the age 2\"))\n",
    "age3 = int(input(\"Enter the age 3\"))\n",
    "age4 = int(input(\"Enter the age 4\"))\n",
    "if age1 < age2 and age1 < age3 and age1 < age4:\n",
    "    print(f\"Youngest one age is :{age1}\")\n",
    "elif age2 < age1 and age2 < age3 and age2 < age4:\n",
    "    print(f\"Youngest one age is :{age2}\")\n",
    "elif age3 < age1 and age3 < age2 and age3 < age4:\n",
    "    print(f\"Youngest one age is :{age3}\")\n",
    "else:\n",
    "    print(f\"Youngest one age is :{age4}\")"
   ]
  },
  {
   "cell_type": "markdown",
   "id": "43039722-4e84-4343-b086-bd67ee8631e9",
   "metadata": {},
   "source": [
    "Q4. A company decided to give bonus to employee\n",
    "according to following criteria:\n",
    "\n",
    "Time period of Service----------- Bonus\n",
    "\n",
    "More than 10 years    ----------------10%\n",
    "\n",
    "\\>=6 and <=10 -------------------------8%\n",
    "\n",
    "Less than 6 years ----------------------5%\n",
    "\n",
    "Ask user for their salary and years of service and print the\n",
    "net bonus amount?"
   ]
  },
  {
   "cell_type": "code",
   "execution_count": 5,
   "id": "f552ec18-02b5-4279-9072-4184445df1be",
   "metadata": {},
   "outputs": [
    {
     "name": "stdin",
     "output_type": "stream",
     "text": [
      "Enter Your salary 500000\n",
      "Enter your year of Service 30\n"
     ]
    },
    {
     "name": "stdout",
     "output_type": "stream",
     "text": [
      "Your bonus is 50000.0\n"
     ]
    }
   ],
   "source": [
    "salary = int(input(\"Enter Your salary\"))\n",
    "service = int(input(\"Enter your year of Service\"))\n",
    "if service < 6:\n",
    "    print(f\"Your bonus is {(salary * 5)/100}\")\n",
    "elif service <=10 and service>=6:\n",
    "    print(f\"Your bonus is {(salary * 8)/100}\")\n",
    "else:\n",
    "    print(f\"Your bonus is {(salary * 10)/100}\")"
   ]
  },
  {
   "cell_type": "markdown",
   "id": "3d687843-71dd-46d6-9eb4-c7f7bbd22679",
   "metadata": {},
   "source": [
    "Q5. Accept three numbers from the user and\n",
    "display the second largest number?"
   ]
  },
  {
   "cell_type": "code",
   "execution_count": 7,
   "id": "ac5d81f3-61af-4f63-b4bc-a2b46105d895",
   "metadata": {},
   "outputs": [
    {
     "name": "stdout",
     "output_type": "stream",
     "text": [
      "enter three number\n"
     ]
    },
    {
     "name": "stdin",
     "output_type": "stream",
     "text": [
      "number 1 34\n",
      "number 2 30\n",
      "number 3 20\n"
     ]
    },
    {
     "name": "stdout",
     "output_type": "stream",
     "text": [
      "Second largest number 30\n"
     ]
    }
   ],
   "source": [
    "print(\"enter three number\")\n",
    "number1 = int(input(\"number 1\"))\n",
    "number2 = int(input(\"number 2\"))\n",
    "number3 = int(input(\"number 3\"))\n",
    "if (number1>number2 and number1<number3) or (number1 > number3 and number1 < number2):\n",
    "    print(f\"Second largest number {number1}\")\n",
    "elif (number2 > number3 and number2 < number1) or (number2 < number3 and number2 > number2):\n",
    "    print(f\"Second largest number {number2}\")\n",
    "else :\n",
    "    print(f\"Second largest number {number3}\")"
   ]
  },
  {
   "cell_type": "markdown",
   "id": "79f0de61-8b4b-44ad-840e-07d380f5124d",
   "metadata": {},
   "source": [
    "Q6. Accept the marked price from the user and calculate\n",
    "the Net amount as (Marked Price – Discount) to pay\n",
    "according to following criteria:\n",
    "\n",
    "Marked Price-----------Discount\\\n",
    "\\>10000-----------------20%\\\n",
    "\\>7000 and <=10000------15%\\\n",
    "<=7000------------------10%"
   ]
  },
  {
   "cell_type": "code",
   "execution_count": 9,
   "id": "872cd860-c6b0-4e49-a4b4-def8b5dc6fc7",
   "metadata": {},
   "outputs": [
    {
     "name": "stdin",
     "output_type": "stream",
     "text": [
      "Enter the Marked Price 15000\n"
     ]
    },
    {
     "name": "stdout",
     "output_type": "stream",
     "text": [
      "Your net amount after discount is 12000.0\n"
     ]
    }
   ],
   "source": [
    "marked_price = int(input(\"Enter the Marked Price\"))\n",
    "net_amount = 0\n",
    "if marked_price > 10000:\n",
    "    net_amount = marked_price - ((20*marked_price)/100)\n",
    "elif marked_price > 7000 and marked_price <= 10000:\n",
    "    net_amount = marked_price - ((15*marked_price)/100)\n",
    "else:\n",
    "    net_amount = marked_price - ((10*marked_price)/100)\n",
    "print(f\"Your net amount after discount is {net_amount}\")"
   ]
  },
  {
   "cell_type": "markdown",
   "id": "c4b2ddd0-3e79-4135-a33c-e626a8c5553f",
   "metadata": {},
   "source": [
    "Q7. Accept the marks of English, Math and Science,\n",
    "Social Studies Subject and display the stream allotted\n",
    "according to following:\n",
    "\n",
    "All Subjects more than 80 marks — Science Stream\n",
    "\n",
    "English >80 and Math, Science above 50 — Commerce Stream\n",
    "\n",
    "English > 80 and social studies > 80 — Humanities"
   ]
  },
  {
   "cell_type": "code",
   "execution_count": 21,
   "id": "7e88a79e-6395-4e14-8ff2-7e81a2b37be8",
   "metadata": {},
   "outputs": [
    {
     "name": "stdout",
     "output_type": "stream",
     "text": [
      "enter the marks of subject:\n"
     ]
    },
    {
     "name": "stdin",
     "output_type": "stream",
     "text": [
      "English 80\n",
      "Mathematics 90\n",
      "Science 90\n",
      "Social Science 90\n"
     ]
    },
    {
     "name": "stdout",
     "output_type": "stream",
     "text": [
      "Need marks above 80 in english\n"
     ]
    }
   ],
   "source": [
    "print(\"enter the marks of subject:\")\n",
    "english = int(input(\"English\"))\n",
    "maths = int(input(\"Mathematics\"))\n",
    "science = int(input(\"Science\"))\n",
    "social_science = int(input(\"Social Science\"))\n",
    "if english>80 and maths>80 and science>80 and social_science>80:\n",
    "    print(\"Science Stream is alloted to you.\")\n",
    "elif english>80 and maths>50 and science>50:\n",
    "    print(\"Commerce Stream is alloted to you.\")\n",
    "elif english > 80 and social_science > 80:\n",
    "    print(\"Humanities is alloted to you\")\n",
    "else:\n",
    "    print(\"Need marks above 80 in english\")"
   ]
  },
  {
   "cell_type": "markdown",
   "id": "fe9678d5-ad9e-41ae-bac4-6b4c978c8ade",
   "metadata": {},
   "source": [
    "Q8. Write a program to display \"Hello\" if a number entered\n",
    "by user is a multiple of five, otherwise print \"Bye\"?"
   ]
  },
  {
   "cell_type": "code",
   "execution_count": 22,
   "id": "d08695b0-df62-4248-a608-5025e67ea9d0",
   "metadata": {},
   "outputs": [
    {
     "name": "stdout",
     "output_type": "stream",
     "text": [
      "Enter the number (multilple of 5) to show 'Hello' and other to show 'Bye'.\n"
     ]
    },
    {
     "name": "stdin",
     "output_type": "stream",
     "text": [
      "Enter a number: 25\n"
     ]
    },
    {
     "name": "stdout",
     "output_type": "stream",
     "text": [
      "Hello\n"
     ]
    }
   ],
   "source": [
    "print(\"Enter the number (multilple of 5) to show 'Hello' and other to show 'Bye'.\")\n",
    "number = int(input(\"Enter a number:\"))\n",
    "if number%5 == 0:\n",
    "    print(\"Hello\")\n",
    "else:\n",
    "    print(\"Bye\")"
   ]
  },
  {
   "cell_type": "markdown",
   "id": "aa77d40d-f1d4-4c66-b8fe-2adc673767c8",
   "metadata": {},
   "source": [
    "Q9. Write a program to check whether the last digit of a number\n",
    "(entered by user) is divisible by 3 or not?"
   ]
  },
  {
   "cell_type": "code",
   "execution_count": 24,
   "id": "70ae2aa4-044f-4c63-84f3-e3fe8e15a7ba",
   "metadata": {},
   "outputs": [
    {
     "name": "stdin",
     "output_type": "stream",
     "text": [
      "Enter the number 233\n"
     ]
    },
    {
     "name": "stdout",
     "output_type": "stream",
     "text": [
      "last digit of 233 is divisible by 3\n"
     ]
    }
   ],
   "source": [
    "number = int(input(\"Enter the number\"))\n",
    "if (number%10)%3==0:\n",
    "    print(f\"last digit of {number} is divisible by 3\")\n",
    "else:\n",
    "    print(f\"last digit of {number} is not divisible by 3\")"
   ]
  },
  {
   "cell_type": "markdown",
   "id": "411b056b-b43e-44bf-af8e-e1055f010c2e",
   "metadata": {},
   "source": [
    "Q10. Write a program to check whether a number entered\n",
    "is three-digit number or not?"
   ]
  },
  {
   "cell_type": "code",
   "execution_count": 28,
   "id": "e9187891-ccc7-4862-8359-bac2233415fb",
   "metadata": {},
   "outputs": [
    {
     "name": "stdin",
     "output_type": "stream",
     "text": [
      "enter a number to check whether the number is three digit or not 2345\n"
     ]
    },
    {
     "name": "stdout",
     "output_type": "stream",
     "text": [
      "Three digit number is not entered\n"
     ]
    }
   ],
   "source": [
    "# method 1 \n",
    "num = int(input(\"enter a number to check whether the number is three digit or not\"))\n",
    "if num/10<100 :\n",
    "    print(\"Three digit number is entered\")\n",
    "else:\n",
    "    print(\"Three digit number is not entered\")"
   ]
  },
  {
   "cell_type": "code",
   "execution_count": 30,
   "id": "3569c997-a082-48e4-9d16-49a8dc83d1a9",
   "metadata": {},
   "outputs": [
    {
     "name": "stdin",
     "output_type": "stream",
     "text": [
      "enter a number to check whether the number is three digit or not 234\n"
     ]
    },
    {
     "name": "stdout",
     "output_type": "stream",
     "text": [
      "three digit number\n"
     ]
    }
   ],
   "source": [
    "#method 2\n",
    "num = int(input(\"enter a number to check whether the number is three digit or not\"))\n",
    "if len(str(num))==3:\n",
    "    print(\"three digit number\")\n",
    "else:\n",
    "    print('not a three digit number')"
   ]
  },
  {
   "cell_type": "code",
   "execution_count": null,
   "id": "a73567f6-17de-4b8c-bdd0-b0976e46422b",
   "metadata": {},
   "outputs": [],
   "source": []
  }
 ],
 "metadata": {
  "kernelspec": {
   "display_name": "Python (tfenv)",
   "language": "python",
   "name": "tfenv"
  },
  "language_info": {
   "codemirror_mode": {
    "name": "ipython",
    "version": 3
   },
   "file_extension": ".py",
   "mimetype": "text/x-python",
   "name": "python",
   "nbconvert_exporter": "python",
   "pygments_lexer": "ipython3",
   "version": "3.13.5"
  }
 },
 "nbformat": 4,
 "nbformat_minor": 5
}
