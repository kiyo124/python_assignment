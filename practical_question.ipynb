{
 "cells": [
  {
   "cell_type": "markdown",
   "id": "074581a1-3ada-46bd-8858-e3e2e93fd49c",
   "metadata": {},
   "source": [
    "1. Take the input from user and find whether number is prime or not?\\\n",
    "Prime numbers are number which are divide by 1 or themselves only.\\\n",
    "Example: 13 is a prime number.\\\n",
    "Example: 97 is a prime number"
   ]
  },
  {
   "cell_type": "code",
   "execution_count": 2,
   "id": "326e363e-531e-406b-8d79-fa2656f5d612",
   "metadata": {},
   "outputs": [
    {
     "name": "stdin",
     "output_type": "stream",
     "text": [
      "Enter the number 12\n"
     ]
    },
    {
     "name": "stdout",
     "output_type": "stream",
     "text": [
      "12 is not prime\n"
     ]
    }
   ],
   "source": [
    "def prime_number(number):\n",
    "    #try:\n",
    "        if number==0 or number == 1:\n",
    "            return f\"{number} is not prime\"\n",
    "        for i in range(2,int(number**.5)+1):\n",
    "            if number%i==0:\n",
    "                return f\"{number} is not prime\"\n",
    "            \n",
    "        return f\"{number} is  prime\"\n",
    "    #except Exception:\n",
    "        #return \"Invalid Input\"\n",
    "if __name__ == \"__main__\":\n",
    "    try:\n",
    "        number = int(input(\"Enter the number\"))   \n",
    "        print(prime_number(number))\n",
    "    except Exception:\n",
    "        print(\"Invalid Input\")"
   ]
  },
  {
   "cell_type": "markdown",
   "id": "c22c2aac-4298-43fd-8997-00d5666c03b6",
   "metadata": {},
   "source": [
    "2. Reverse the string using for loop.\\\n",
    "string = \"Python\"\\\n",
    "Expected output = \"nohtyP\""
   ]
  },
  {
   "cell_type": "code",
   "execution_count": 9,
   "id": "45fba82e-d2ba-4139-9bea-cfc57be92efe",
   "metadata": {},
   "outputs": [
    {
     "name": "stdin",
     "output_type": "stream",
     "text": [
      "Enter the string 12234\n"
     ]
    },
    {
     "name": "stdout",
     "output_type": "stream",
     "text": [
      "After reversing : 43221\n"
     ]
    }
   ],
   "source": [
    "def reverse_string(word):\n",
    "    return f\"After reversing : {word[::-1]}\"\n",
    "    \n",
    "if __name__ == \"__main__\":\n",
    "    try:\n",
    "        word = input(\"Enter the string\")\n",
    "        print(reverse_string(word))\n",
    "    except Exception:\n",
    "        print(\"Invalid\")"
   ]
  },
  {
   "cell_type": "markdown",
   "id": "520a0492-6a46-4c8e-a132-cc46dd394bcf",
   "metadata": {},
   "source": [
    "3. Palindrome Check (String Problem)\\\n",
    "Write a function to check whether a given string is a palindrome (a string that reads the same\\\n",
    "forward and backward is called palindrome).\\\n",
    "String = “mom” # if we reverse this string, we get the same Output “mom”\\\n",
    "Expected output: string is a palindrome."
   ]
  },
  {
   "cell_type": "code",
   "execution_count": 7,
   "id": "2b277ccd-6975-4dae-b36e-bc43bbd6fa09",
   "metadata": {},
   "outputs": [
    {
     "name": "stdin",
     "output_type": "stream",
     "text": [
      "Enter the string 121\n"
     ]
    },
    {
     "name": "stdout",
     "output_type": "stream",
     "text": [
      "121 is a palindrome\n"
     ]
    }
   ],
   "source": [
    "def palindrome(string):\n",
    "    try:\n",
    "        if string == string[::-1]:\n",
    "            return f\"{string} is a palindrome\"\n",
    "        else:\n",
    "            return f\"{string} is not a palindrome\"\n",
    "    except Exception:\n",
    "        return \"Invald Input\"\n",
    "if __name__ == \"__main__\":\n",
    "    string = input(\"Enter the string\")\n",
    "    print(palindrome(string))"
   ]
  },
  {
   "cell_type": "markdown",
   "id": "13132a83-04b3-4616-9670-f4b16516bfdd",
   "metadata": {},
   "source": [
    "4. Calculate factorial of a number\\\n",
    "Write a function calculate_factorial that takes a number as input and returns its factorial. Handle\\\n",
    "cases where the input is not a non-negative integer or zero.\\\n",
    "Example: If number is 5 factorials will be (5x4x2x3x2x1=120)\\\n",
    "Expected output: 120 if number is 5"
   ]
  },
  {
   "cell_type": "code",
   "execution_count": 3,
   "id": "cf677edc-3519-43e3-81da-5e0a4c73e7a1",
   "metadata": {},
   "outputs": [
    {
     "name": "stdout",
     "output_type": "stream",
     "text": [
      "Invalid Input\n"
     ]
    }
   ],
   "source": [
    "def factorial(number):\n",
    "    fact=1\n",
    "    #try:\n",
    "    for i in range(1,number+1):\n",
    "        fact*=i\n",
    "    return f\"Factorial of {number} is {fact}\"\n",
    "    #except Exception:\n",
    "        #return \"Invalid Input\"\n",
    "        \n",
    "if __name__ == \"__main__\":\n",
    "    try:\n",
    "        number = long(input(\"Enter the number\"))\n",
    "        print(factorial(number))\n",
    "    except Exception:\n",
    "        print(\"Invalid Input\")\n",
    "    "
   ]
  },
  {
   "cell_type": "markdown",
   "id": "99d735a0-5ea8-488b-8eac-ab4a22b5c225",
   "metadata": {},
   "source": [
    "5. Find the Second Largest Element in a List using for loop.\\\n",
    "Write a function to find the second largest element in a list without using built-in sorting.\\\n",
    "Example:\\\n",
    "Input: [7, 5, 8, 2, 10, 9]\\\n",
    "Expected Output: 9"
   ]
  },
  {
   "cell_type": "code",
   "execution_count": 8,
   "id": "4f4616cf-ff6c-4d4c-af5e-aa04d1f0ef2a",
   "metadata": {},
   "outputs": [
    {
     "name": "stdin",
     "output_type": "stream",
     "text": [
      "Enter the element of list seprated by space 2 5 6 9 8 2\n"
     ]
    },
    {
     "name": "stdout",
     "output_type": "stream",
     "text": [
      "[2, 2, 5, 6, 8, 9]\n",
      "8\n"
     ]
    }
   ],
   "source": [
    "def second_largest(list1 ):\n",
    "    for i in range(len(list1)):\n",
    "        for j in range(len(list1)):\n",
    "            if list1[i] < list1[j]:\n",
    "                list1[i],list1[j] = list1[j],list1[i]\n",
    "    #print(list1)\n",
    "    if list1.count(max(list1)) == len(list1):\n",
    "        return None\n",
    "    else:\n",
    "        return list1[ -(list1.count(max(list1))+1)]\n",
    "if __name__==\"__main__\":\n",
    "    try :\n",
    "        list1 =input(\"Enter the element of list seprated by space\").split()\n",
    "        list1 =list(map(int,list1))\n",
    "        print(second_largest(list1))\n",
    "    except Exception:\n",
    "        print(\"Something went wrong\")"
   ]
  },
  {
   "cell_type": "code",
   "execution_count": null,
   "id": "fd465d8c-6139-47cd-95a9-c8b393a57d8c",
   "metadata": {},
   "outputs": [],
   "source": []
  },
  {
   "cell_type": "code",
   "execution_count": null,
   "id": "e2ba4c5a-2a47-45b1-87ea-e655dcecee17",
   "metadata": {},
   "outputs": [],
   "source": []
  }
 ],
 "metadata": {
  "kernelspec": {
   "display_name": "Python 3 (ipykernel)",
   "language": "python",
   "name": "python3"
  },
  "language_info": {
   "codemirror_mode": {
    "name": "ipython",
    "version": 3
   },
   "file_extension": ".py",
   "mimetype": "text/x-python",
   "name": "python",
   "nbconvert_exporter": "python",
   "pygments_lexer": "ipython3",
   "version": "3.13.5"
  }
 },
 "nbformat": 4,
 "nbformat_minor": 5
}
