{
 "cells": [
  {
   "cell_type": "markdown",
   "id": "8de00948-8063-47b7-aa36-7a14d58703e1",
   "metadata": {},
   "source": [
    "Question 1: Write a Python program to print all the numbers from 1 to 10 using a for loop."
   ]
  },
  {
   "cell_type": "code",
   "execution_count": 3,
   "id": "42491544-d196-4612-a50c-cc20acf0e400",
   "metadata": {},
   "outputs": [
    {
     "name": "stdout",
     "output_type": "stream",
     "text": [
      "1\n",
      "2\n",
      "3\n",
      "4\n",
      "5\n",
      "6\n",
      "7\n",
      "8\n",
      "9\n",
      "10\n"
     ]
    }
   ],
   "source": [
    "for i in range(1,11):\n",
    "    print(i)"
   ]
  },
  {
   "cell_type": "markdown",
   "id": "7ec0614b-a89d-4615-9f86-5e9a2c5baaff",
   "metadata": {},
   "source": [
    "Question 2: Write a program to find the sum of 1 to 100 numbers?\n"
   ]
  },
  {
   "cell_type": "code",
   "execution_count": 8,
   "id": "8d4852c4-c73f-4684-bb91-6d96beb511a6",
   "metadata": {},
   "outputs": [
    {
     "name": "stdout",
     "output_type": "stream",
     "text": [
      "Sum of 1 to 100 5050\n"
     ]
    }
   ],
   "source": [
    "sum=0\n",
    "for i in range(101):\n",
    "    sum+=i\n",
    "print(f\"Sum of 1 to 100 {sum}\")"
   ]
  },
  {
   "cell_type": "markdown",
   "id": "10d7760d-504c-4239-bfde-095f4d2c580a",
   "metadata": {},
   "source": [
    "Question 3: Write a Python program to print the multiplication table of Qua given number using a for loop."
   ]
  },
  {
   "cell_type": "code",
   "execution_count": 9,
   "id": "4947f860-f81f-4067-bd56-76b5982acc5b",
   "metadata": {},
   "outputs": [
    {
     "name": "stdin",
     "output_type": "stream",
     "text": [
      "find table of 5\n"
     ]
    },
    {
     "name": "stdout",
     "output_type": "stream",
     "text": [
      "5*1=5\n",
      "5*2=10\n",
      "5*3=15\n",
      "5*4=20\n",
      "5*5=25\n",
      "5*6=30\n",
      "5*7=35\n",
      "5*8=40\n",
      "5*9=45\n",
      "5*10=50\n"
     ]
    }
   ],
   "source": [
    "number = int(input(\"find table of\"))\n",
    "for i in range(1,11):\n",
    "    print(f\"{number}*{i}={number*i}\")"
   ]
  },
  {
   "cell_type": "markdown",
   "id": "62104709-8002-4bbc-b01a-868d51e04fcf",
   "metadata": {},
   "source": [
    "questioN 4: Write a Python program to count the number of even and odd numbers from a series of numbers using a for loop. Hint: Find even and odd from this list: [1, 2, 3, 4, 5, 6, 7, 8, 9, 10]"
   ]
  },
  {
   "cell_type": "code",
   "execution_count": 10,
   "id": "cce987a7-43fd-4f62-9b96-a798d3d0ebda",
   "metadata": {},
   "outputs": [
    {
     "name": "stdout",
     "output_type": "stream",
     "text": [
      "Number of even 5\n",
      "Number of odd 5\n"
     ]
    }
   ],
   "source": [
    "even=0\n",
    "odd=0\n",
    "for i in [1,2,3,4,5,6,7,8,9,10]:\n",
    "    if i%2==0:\n",
    "        even+=1\n",
    "    else:\n",
    "        odd+=1\n",
    "print(f\"Number of even {even}\")\n",
    "print(f\"Number of odd {odd}\")"
   ]
  },
  {
   "cell_type": "markdown",
   "id": "9369bcde-91f4-44c6-ada3-d18cfd7490e2",
   "metadata": {},
   "source": [
    "Question 5: Write a Python program to find the factorial of a number using a for loop."
   ]
  },
  {
   "cell_type": "code",
   "execution_count": 2,
   "id": "bec9c0fd-db64-4c24-a20f-2a68e0183c51",
   "metadata": {},
   "outputs": [
    {
     "name": "stdin",
     "output_type": "stream",
     "text": [
      "Find Factorial of: 5\n"
     ]
    },
    {
     "name": "stdout",
     "output_type": "stream",
     "text": [
      "Factorial of 5 is : 120\n"
     ]
    }
   ],
   "source": [
    "fact = 1\n",
    "number = int(input(\"Find Factorial of:\"))\n",
    "for i in range(1,number+1):\n",
    "    fact *=i\n",
    "print(f\"Factorial of {number} is :\",fact)"
   ]
  },
  {
   "cell_type": "markdown",
   "id": "0c744f21-5f22-4f04-a554-1ef493aa849c",
   "metadata": {},
   "source": [
    "Question 6: Write a Python program to print the Fibonacci sequence up to a specified number using a for loop."
   ]
  },
  {
   "cell_type": "code",
   "execution_count": 22,
   "id": "df98d10a-0ebc-4466-b81f-94bf04a0fd76",
   "metadata": {},
   "outputs": [
    {
     "name": "stdin",
     "output_type": "stream",
     "text": [
      "Enter the number of terms 10\n"
     ]
    },
    {
     "name": "stdout",
     "output_type": "stream",
     "text": [
      "0,1,1,2,3,5,8,13,21,"
     ]
    }
   ],
   "source": [
    "num1=0\n",
    "num2=1\n",
    "term = int(input(\"Enter the number of terms\"))\n",
    "#print(num1,end=\",\")\n",
    "for i in range(1,term):\n",
    "    print(num1,end=\",\")\n",
    "    num1,num2 = num2,num1+num2"
   ]
  },
  {
   "cell_type": "markdown",
   "id": "8ce981fc-eeb9-4fed-a625-f8bfca1b9b79",
   "metadata": {},
   "source": [
    "Question 7: Write a Python program to check if a given number is prime or not using a for loop."
   ]
  },
  {
   "cell_type": "code",
   "execution_count": 2,
   "id": "1d5d14c2-a579-4e9d-a4a6-e16380f67bd5",
   "metadata": {},
   "outputs": [
    {
     "name": "stdin",
     "output_type": "stream",
     "text": [
      "Enter a number to check prime or not 13\n"
     ]
    },
    {
     "name": "stdout",
     "output_type": "stream",
     "text": [
      "13 is prime\n"
     ]
    }
   ],
   "source": [
    "number = int(input(\"Enter a number to check prime or not\"))\n",
    "if number<0:\n",
    "    print(f\"{number} is negative\")\n",
    "else:\n",
    "    for i in range(2,int(number**.5)+1):\n",
    "        if number%i==0:\n",
    "            print(\"{number} is not prime\")\n",
    "            break\n",
    "else :\n",
    "    print(f\"{number} is prime\")"
   ]
  },
  {
   "cell_type": "markdown",
   "id": "2c0891f6-f355-4959-82f6-d75925e942c0",
   "metadata": {},
   "source": [
    "Question 8: Write a Python program to find the largest element in a list using a for loop."
   ]
  },
  {
   "cell_type": "code",
   "execution_count": 18,
   "id": "f60cae3c-08dd-4d57-953a-e55c94cc288a",
   "metadata": {},
   "outputs": [
    {
     "data": {
      "text/plain": [
       "100"
      ]
     },
     "execution_count": 18,
     "metadata": {},
     "output_type": "execute_result"
    }
   ],
   "source": [
    "lst = [25,30,5,100,50]\n",
    "max(lst)"
   ]
  },
  {
   "cell_type": "code",
   "execution_count": 21,
   "id": "64451e9f-f8a5-4744-bc4e-258050a464d3",
   "metadata": {},
   "outputs": [
    {
     "name": "stdin",
     "output_type": "stream",
     "text": [
      "Enter elements of list seprated by comma  2,4,6,7,8\n"
     ]
    },
    {
     "name": "stdout",
     "output_type": "stream",
     "text": [
      "largest element : 8\n"
     ]
    }
   ],
   "source": [
    "elements = input(\"Enter elements of list seprated by comma \")\n",
    "lst = elements.split(\",\")\n",
    "maxmm = int(lst[0])\n",
    "for i in lst:\n",
    "    if int(i) > maxmm :\n",
    "        maxmm=int(i)\n",
    "print(f\"largest element : {maxmm}\")"
   ]
  },
  {
   "cell_type": "markdown",
   "id": "00d39a3d-aa6b-401d-ac85-70aca94f7951",
   "metadata": {},
   "source": [
    "Question 9: Write a Python program to reverse a given string using a for loop."
   ]
  },
  {
   "cell_type": "code",
   "execution_count": 7,
   "id": "70ffec09-906d-4ed6-968f-80ad3b984d46",
   "metadata": {},
   "outputs": [
    {
     "name": "stdin",
     "output_type": "stream",
     "text": [
      "Enter string Python\n"
     ]
    },
    {
     "name": "stdout",
     "output_type": "stream",
     "text": [
      "nohtyP"
     ]
    }
   ],
   "source": [
    "string = input(\"Enter string\")\n",
    "for i in range(len(string)-1,-1,-1):\n",
    "    print(string[i],end=\"\")"
   ]
  },
  {
   "cell_type": "code",
   "execution_count": 9,
   "id": "7a194927-e157-46c2-ad80-bff40683e79e",
   "metadata": {},
   "outputs": [
    {
     "name": "stdin",
     "output_type": "stream",
     "text": [
      "Enter a string python\n"
     ]
    },
    {
     "name": "stdout",
     "output_type": "stream",
     "text": [
      "nohtyp\n"
     ]
    }
   ],
   "source": [
    "string = input(\"Enter a string\")\n",
    "reverse = \"\"\n",
    "for char in string:\n",
    "    reverse = char+reverse\n",
    "print(reverse)"
   ]
  },
  {
   "cell_type": "markdown",
   "id": "bd4a1bb5-291f-4232-b8f2-1689822af291",
   "metadata": {},
   "source": [
    "Question 10: Write a Python program to find the common elements between two lists using a for loop. List1 = [1,2,3] List2 = [4,5,1] # common element is 1\n"
   ]
  },
  {
   "cell_type": "code",
   "execution_count": 10,
   "id": "22be2e21-4dfa-481a-9b31-747623dcb6dd",
   "metadata": {},
   "outputs": [
    {
     "name": "stdout",
     "output_type": "stream",
     "text": [
      "Common elements in [1, 2, 3] & [4, 5, 1] are: 1\n"
     ]
    }
   ],
   "source": [
    "list1=[1,2,3]\n",
    "list2=[4,5,1]\n",
    "print(f\"Common elements in {list1} & {list2} are\",end=\": \")\n",
    "for i in list1:\n",
    "    for j in list2:\n",
    "        if i==j:\n",
    "            print(i)"
   ]
  },
  {
   "cell_type": "code",
   "execution_count": null,
   "id": "0ddb4a05-12ea-4b71-abcf-510e1f70c073",
   "metadata": {},
   "outputs": [],
   "source": []
  }
 ],
 "metadata": {
  "kernelspec": {
   "display_name": "Python (tfenv)",
   "language": "python",
   "name": "tfenv"
  },
  "language_info": {
   "codemirror_mode": {
    "name": "ipython",
    "version": 3
   },
   "file_extension": ".py",
   "mimetype": "text/x-python",
   "name": "python",
   "nbconvert_exporter": "python",
   "pygments_lexer": "ipython3",
   "version": "3.13.5"
  }
 },
 "nbformat": 4,
 "nbformat_minor": 5
}
