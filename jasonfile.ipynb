{
 "cells": [
  {
   "cell_type": "code",
   "execution_count": 12,
   "id": "718656be-4c62-4816-a50d-b09d89f77980",
   "metadata": {},
   "outputs": [
    {
     "name": "stdin",
     "output_type": "stream",
     "text": [
      "Enter the account number 1234567890\n",
      "Enter the atm pin 2345\n"
     ]
    },
    {
     "name": "stdout",
     "output_type": "stream",
     "text": [
      "Your Balance: 120000\n",
      " Account Type: Salary\n"
     ]
    },
    {
     "name": "stdin",
     "output_type": "stream",
     "text": [
      "How much you want to withdraw 6000\n"
     ]
    },
    {
     "name": "stdout",
     "output_type": "stream",
     "text": [
      "after withdrawing.....\n",
      "114000 Salary\n"
     ]
    }
   ],
   "source": [
    "import json\n",
    "def ATM():\n",
    "    try:\n",
    "        with open(\"account.json\",\"w\") as file:\n",
    "            json.dump({\"Account_number\":1234567890,\"ATM_pin\": 2345,\"Account_type\":\"Salary\",\"Balance\":120000,\"Mobile_number\":8191068141},file)   \n",
    "        with open(\"account.json\",\"r\") as file:\n",
    "            content=json.load(file)\n",
    "        account_number=int(input(\"Enter the account number\"))\n",
    "        if account_number==content[\"Account_number\"]:\n",
    "            Atm_pin=int(input(\"Enter the atm pin\"))\n",
    "            if Atm_pin==content[\"ATM_pin\"]:\n",
    "                print(f\"Your Balance: {content[\"Balance\"]}\\n Account Type: {content[\"Account_type\"]}\")\n",
    "                withdraw=int(input(\"How much you want to withdraw\"))\n",
    "                print(\"after withdrawing.....\")\n",
    "                return f\"{content[\"Balance\"]-withdraw} {content[\"Account_type\"]}\"\n",
    "            else:\n",
    "                return \"Wrong Atm Pin\"\n",
    "        else:\n",
    "            return \"Wrong account number\"\n",
    "    except Exception as e:\n",
    "        return e\n",
    "if __name__==\"__main__\":\n",
    "    print(ATM())\n",
    "    "
   ]
  },
  {
   "cell_type": "code",
   "execution_count": null,
   "id": "5e841b31-e7ef-4c15-8669-4624e1783474",
   "metadata": {},
   "outputs": [],
   "source": []
  }
 ],
 "metadata": {
  "kernelspec": {
   "display_name": "Python 3 (ipykernel)",
   "language": "python",
   "name": "python3"
  },
  "language_info": {
   "codemirror_mode": {
    "name": "ipython",
    "version": 3
   },
   "file_extension": ".py",
   "mimetype": "text/x-python",
   "name": "python",
   "nbconvert_exporter": "python",
   "pygments_lexer": "ipython3",
   "version": "3.13.5"
  }
 },
 "nbformat": 4,
 "nbformat_minor": 5
}
