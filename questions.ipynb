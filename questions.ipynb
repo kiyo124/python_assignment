{
 "cells": [
  {
   "cell_type": "markdown",
   "id": "316c60f8-742b-466b-bebe-a2670c69e99b",
   "metadata": {},
   "source": [
    "how do you concatenate two string?"
   ]
  },
  {
   "cell_type": "code",
   "execution_count": 1,
   "id": "fd794a0c-41e9-4f03-b41f-0f675c31b967",
   "metadata": {},
   "outputs": [],
   "source": [
    "#either using + operator or join method"
   ]
  },
  {
   "cell_type": "code",
   "execution_count": 5,
   "id": "e6bcdac2-322a-49d0-9a62-e81fa6e9aa1d",
   "metadata": {},
   "outputs": [
    {
     "data": {
      "text/plain": [
       "'Python Programming'"
      ]
     },
     "execution_count": 5,
     "metadata": {},
     "output_type": "execute_result"
    }
   ],
   "source": [
    "# using + operator\n",
    "\"Python \"+\"Programming\""
   ]
  },
  {
   "cell_type": "code",
   "execution_count": 6,
   "id": "05033eb4-37ce-4e90-912e-4c24cd9544fc",
   "metadata": {},
   "outputs": [
    {
     "data": {
      "text/plain": [
       "'Aashish Fartyal'"
      ]
     },
     "execution_count": 6,
     "metadata": {},
     "output_type": "execute_result"
    }
   ],
   "source": [
    "\"\".join([\"Aashish \" , \"Fartyal\"])"
   ]
  },
  {
   "cell_type": "markdown",
   "id": "2e4c162e-a0aa-4f51-8b00-14e2f73da88e",
   "metadata": {},
   "source": [
    "difference b/w + and join for concatination of strings"
   ]
  },
  {
   "cell_type": "code",
   "execution_count": 7,
   "id": "4ac93310-ec2a-492b-9544-adc9126d9940",
   "metadata": {},
   "outputs": [
    {
     "data": {
      "text/plain": [
       "'Aashish ,Fartyal'"
      ]
     },
     "execution_count": 7,
     "metadata": {},
     "output_type": "execute_result"
    }
   ],
   "source": [
    "# + operators concatenate the two different string \n",
    "# join operator join the two string present inside the container like (list,tuple,dictionaries) as given , it also use seprater to join eg\n",
    "\",\".join([\"Aashish \" , \"Fartyal\"])"
   ]
  },
  {
   "cell_type": "markdown",
   "id": "6e5ba175-28df-4ade-8cb9-b87a265a8eb3",
   "metadata": {},
   "source": [
    "How do you individual characters in string?"
   ]
  },
  {
   "cell_type": "code",
   "execution_count": 11,
   "id": "8f2df8f8-1a76-4107-91a0-a7bd9362a823",
   "metadata": {},
   "outputs": [],
   "source": [
    "# using indexing\n",
    "string = \"Hello! This is Python programming\""
   ]
  },
  {
   "cell_type": "code",
   "execution_count": 12,
   "id": "b8dcde64-f4b3-4c4e-bc6e-3fb1a385ca8e",
   "metadata": {},
   "outputs": [
    {
     "data": {
      "text/plain": [
       "'H'"
      ]
     },
     "execution_count": 12,
     "metadata": {},
     "output_type": "execute_result"
    }
   ],
   "source": [
    "string[0]"
   ]
  },
  {
   "cell_type": "code",
   "execution_count": 13,
   "id": "0413b518-3a14-4624-ab62-57f754730bb6",
   "metadata": {},
   "outputs": [
    {
     "data": {
      "text/plain": [
       "'o'"
      ]
     },
     "execution_count": 13,
     "metadata": {},
     "output_type": "execute_result"
    }
   ],
   "source": [
    "string[4]"
   ]
  },
  {
   "cell_type": "markdown",
   "id": "0294df79-217d-4510-b3e5-d55504d55e50",
   "metadata": {},
   "source": [
    "what method is used to find the length of the string in python?\n"
   ]
  },
  {
   "cell_type": "code",
   "execution_count": 14,
   "id": "d1eae53b-e496-45f6-b0e0-b64e8dcc72a7",
   "metadata": {},
   "outputs": [
    {
     "data": {
      "text/plain": [
       "33"
      ]
     },
     "execution_count": 14,
     "metadata": {},
     "output_type": "execute_result"
    }
   ],
   "source": [
    "# len() is used to find the length of the string\n",
    "len(string)"
   ]
  },
  {
   "cell_type": "markdown",
   "id": "e017cfda-a7ee-47e4-88b5-0a6ec91b19e5",
   "metadata": {},
   "source": [
    "how to conver string from lower case to upper case?"
   ]
  },
  {
   "cell_type": "code",
   "execution_count": 15,
   "id": "ff23d521-0829-4c84-af17-d039a7391515",
   "metadata": {},
   "outputs": [
    {
     "data": {
      "text/plain": [
       "'HELLO WORLD'"
      ]
     },
     "execution_count": 15,
     "metadata": {},
     "output_type": "execute_result"
    }
   ],
   "source": [
    "# upper() is used to conver the lower case to upper case\n",
    "\"hello world\".upper()"
   ]
  },
  {
   "cell_type": "markdown",
   "id": "00e89ff4-450c-471a-af60-e751275bbdd6",
   "metadata": {},
   "source": [
    "how can you convert a upper case string into lower case?\n"
   ]
  },
  {
   "cell_type": "code",
   "execution_count": 16,
   "id": "552a46e9-4fee-4072-87a8-acce15697982",
   "metadata": {},
   "outputs": [
    {
     "data": {
      "text/plain": [
       "'hello python'"
      ]
     },
     "execution_count": 16,
     "metadata": {},
     "output_type": "execute_result"
    }
   ],
   "source": [
    "# lower() is a method used to convert upper to lower case\n",
    "\"HELLO PYTHON\".lower()"
   ]
  },
  {
   "cell_type": "markdown",
   "id": "5ebcab7a-87f3-46f6-a76e-81101399f93d",
   "metadata": {},
   "source": [
    "what method is used to replace substrings within a string?\n"
   ]
  },
  {
   "cell_type": "code",
   "execution_count": 17,
   "id": "be39ddcd-669d-4d96-b2c0-bb8ea3e78b9f",
   "metadata": {},
   "outputs": [
    {
     "data": {
      "text/plain": [
       "'this is java programming'"
      ]
     },
     "execution_count": 17,
     "metadata": {},
     "output_type": "execute_result"
    }
   ],
   "source": [
    "# replace() is a method used to replace substring within a string\n",
    "\"this is python programming\".replace(\"python\" , \"java\")"
   ]
  },
  {
   "cell_type": "markdown",
   "id": "79a6c646-3fc7-4465-b127-cdda91fa01af",
   "metadata": {},
   "source": [
    "how can we split a string into a list of substring using a delimeter?"
   ]
  },
  {
   "cell_type": "code",
   "execution_count": 20,
   "id": "161af61a-f27a-4b47-b49f-57b2de3ca08f",
   "metadata": {},
   "outputs": [
    {
     "data": {
      "text/plain": [
       "['this', 'is', 'python', 'programming']"
      ]
     },
     "execution_count": 20,
     "metadata": {},
     "output_type": "execute_result"
    }
   ],
   "source": [
    "# split() is a method used to split the string into the list of substring using delimeter\n",
    "\"this is python programming\".split()"
   ]
  },
  {
   "cell_type": "code",
   "execution_count": 22,
   "id": "2c354630-f2e6-4674-8e8d-e7aaa8adb1b6",
   "metadata": {},
   "outputs": [
    {
     "data": {
      "text/plain": [
       "['username', 'domain', 'nname.com']"
      ]
     },
     "execution_count": 22,
     "metadata": {},
     "output_type": "execute_result"
    }
   ],
   "source": [
    "\"username@domain@nname.com\".split(\"@\")"
   ]
  },
  {
   "cell_type": "markdown",
   "id": "ebf50e82-2635-4fdf-bf75-77a74e4a44c8",
   "metadata": {},
   "source": [
    "how do you check if a string starts with a particular substring?"
   ]
  },
  {
   "cell_type": "code",
   "execution_count": 23,
   "id": "0e317d58-5054-414a-a72b-eb63d57c1aea",
   "metadata": {},
   "outputs": [
    {
     "data": {
      "text/plain": [
       "True"
      ]
     },
     "execution_count": 23,
     "metadata": {},
     "output_type": "execute_result"
    }
   ],
   "source": [
    "# startwith() is a method used to check the if the string start with particular substrings\n",
    "\"hello world\".startswith(\"hello\")"
   ]
  },
  {
   "cell_type": "markdown",
   "id": "2ced804d-6b1c-4aab-84cc-b27e5361131e",
   "metadata": {},
   "source": [
    "how do you check if a string ends with a particular substring?"
   ]
  },
  {
   "cell_type": "code",
   "execution_count": 25,
   "id": "26ad00a1-af6d-4d60-b792-07410d70b8f7",
   "metadata": {},
   "outputs": [
    {
     "data": {
      "text/plain": [
       "True"
      ]
     },
     "execution_count": 25,
     "metadata": {},
     "output_type": "execute_result"
    }
   ],
   "source": [
    "# endswith() is a method used to check if a string ends with a particular substring\n",
    "\"hello world\".endswith(\"world\")"
   ]
  },
  {
   "cell_type": "markdown",
   "id": "19afa513-ac13-4e04-a614-7ddf4c1e9181",
   "metadata": {},
   "source": [
    "How can you remove leading and trailing whitespace  from string?"
   ]
  },
  {
   "cell_type": "code",
   "execution_count": 26,
   "id": "e9933bbe-f7bc-4783-9585-841adb22db5b",
   "metadata": {},
   "outputs": [
    {
     "data": {
      "text/plain": [
       "'hello world'"
      ]
     },
     "execution_count": 26,
     "metadata": {},
     "output_type": "execute_result"
    }
   ],
   "source": [
    "# strip() is a method used to remove leading and trailing whitespace from string\n",
    "\"   hello world    \".strip()"
   ]
  },
  {
   "cell_type": "markdown",
   "id": "05655b71-9990-45e8-9fa1-437f68018a20",
   "metadata": {},
   "source": [
    "what method is used to find the index of the first occurrence of substring within a substring?\n"
   ]
  },
  {
   "cell_type": "code",
   "execution_count": 27,
   "id": "dbf90fc6-f682-46f9-bb62-78451ae4a320",
   "metadata": {},
   "outputs": [
    {
     "data": {
      "text/plain": [
       "6"
      ]
     },
     "execution_count": 27,
     "metadata": {},
     "output_type": "execute_result"
    }
   ],
   "source": [
    "# find() is a method used to find the index of the first occurrence of substring within a string\n",
    "\"hello python programming\".find(\"python\")"
   ]
  },
  {
   "cell_type": "markdown",
   "id": "f9330658-84d2-45f5-bde9-5ffd1f788fa6",
   "metadata": {},
   "source": [
    "how can you count the number of substring present within a string?"
   ]
  },
  {
   "cell_type": "code",
   "execution_count": 28,
   "id": "36850ccd-9f33-43a6-8e8c-f2b7e9eac5cb",
   "metadata": {},
   "outputs": [
    {
     "data": {
      "text/plain": [
       "3"
      ]
     },
     "execution_count": 28,
     "metadata": {},
     "output_type": "execute_result"
    }
   ],
   "source": [
    "# count() is a method used to find the number of substring present within string\n",
    "\"one two one one\".count(\"one\")"
   ]
  },
  {
   "cell_type": "markdown",
   "id": "9d02ebe2-b153-4d31-922e-5db279583201",
   "metadata": {},
   "source": [
    "how do you check if a string contains only alphabetic character?"
   ]
  },
  {
   "cell_type": "code",
   "execution_count": 29,
   "id": "bc23108e-e432-49de-8787-3c4b2051c28c",
   "metadata": {},
   "outputs": [
    {
     "data": {
      "text/plain": [
       "False"
      ]
     },
     "execution_count": 29,
     "metadata": {},
     "output_type": "execute_result"
    }
   ],
   "source": [
    "# isalpha() is a method used to check if a string contains only alphabetic character\n",
    "\"123abc\".isalpha()"
   ]
  },
  {
   "cell_type": "code",
   "execution_count": 30,
   "id": "fa72d8c5-c9d5-4728-8b6c-5e7837eab999",
   "metadata": {},
   "outputs": [
    {
     "data": {
      "text/plain": [
       "True"
      ]
     },
     "execution_count": 30,
     "metadata": {},
     "output_type": "execute_result"
    }
   ],
   "source": [
    "\"abs\".isalpha()"
   ]
  },
  {
   "cell_type": "markdown",
   "id": "ca1a51be-4d71-43c5-a4ba-62eaecca12e5",
   "metadata": {},
   "source": [
    "How do you check if a string contains only numeric characters?"
   ]
  },
  {
   "cell_type": "code",
   "execution_count": 1,
   "id": "636d8031-a7e8-44d8-bc4b-dc17671e0594",
   "metadata": {},
   "outputs": [
    {
     "data": {
      "text/plain": [
       "True"
      ]
     },
     "execution_count": 1,
     "metadata": {},
     "output_type": "execute_result"
    }
   ],
   "source": [
    "# isnumeric() is a method used to check if a string contains only numeric characters\n",
    "\"123\".isnumeric()"
   ]
  },
  {
   "cell_type": "code",
   "execution_count": 2,
   "id": "78da5a6b-558c-4428-a4d9-b9ff93e0713b",
   "metadata": {},
   "outputs": [
    {
     "data": {
      "text/plain": [
       "False"
      ]
     },
     "execution_count": 2,
     "metadata": {},
     "output_type": "execute_result"
    }
   ],
   "source": [
    "\"123abc\".isnumeric()"
   ]
  },
  {
   "cell_type": "markdown",
   "id": "66bbf16f-2526-415e-9811-d00d4b78b6e3",
   "metadata": {},
   "source": [
    "How can you check if a string is a palindrome?"
   ]
  },
  {
   "cell_type": "code",
   "execution_count": 11,
   "id": "61b91d37-ccab-4f43-b3c3-33be8bd0b0b1",
   "metadata": {},
   "outputs": [
    {
     "name": "stdout",
     "output_type": "stream",
     "text": [
      "Reverse String :mom\n",
      "string is palindrome\n"
     ]
    }
   ],
   "source": [
    "# palindrome means orignal string == reversed string\n",
    "orignal_string = \"mom\"\n",
    "reverse_string = orignal_string[-1::-1]\n",
    "print(f\"Reverse String :{reverse_string}\")\n",
    "if orignal_string == reverse_string:\n",
    "    print(\"string is palindrome\")\n",
    "else : \n",
    "    print(\"not a palindrome\")"
   ]
  },
  {
   "cell_type": "markdown",
   "id": "a28b1983-014b-43ce-8c3e-3ffdeea3f3d4",
   "metadata": {},
   "source": [
    "How can you reverse a string in Python?"
   ]
  },
  {
   "cell_type": "code",
   "execution_count": 14,
   "id": "1ac14510-0852-4c58-bd44-d05254c3d18d",
   "metadata": {},
   "outputs": [
    {
     "data": {
      "text/plain": [
       "'nohtyp si siht'"
      ]
     },
     "execution_count": 14,
     "metadata": {},
     "output_type": "execute_result"
    }
   ],
   "source": [
    "# using indexing backtracking\n",
    "string = \"this is python\"\n",
    "reverse = string[-1::-1]\n",
    "reverse"
   ]
  },
  {
   "cell_type": "markdown",
   "id": "7f3bc621-35cc-4cac-b548-e1d2307407cb",
   "metadata": {},
   "source": [
    "How do you format a string with placeholders for variable values?"
   ]
  },
  {
   "cell_type": "code",
   "execution_count": 15,
   "id": "89a44030-7dca-4b97-9b5d-032b22e9f00d",
   "metadata": {},
   "outputs": [
    {
     "data": {
      "text/plain": [
       "'Hii Aashish , Your age is 21 and city is Haridwar.'"
      ]
     },
     "execution_count": 15,
     "metadata": {},
     "output_type": "execute_result"
    }
   ],
   "source": [
    "#1\n",
    "name = \"Aashish\"\n",
    "age = 21\n",
    "city = \"Haridwar\"\n",
    "\"Hii {2} , Your age is {0} and city is {1}.\".format(age,city,name)"
   ]
  },
  {
   "cell_type": "code",
   "execution_count": 17,
   "id": "a65068c7-1ca9-4b5f-a586-b243a33021ce",
   "metadata": {},
   "outputs": [
    {
     "name": "stdout",
     "output_type": "stream",
     "text": [
      "Hii Aashish , Your age is 21 and city is Haridwar.\n"
     ]
    }
   ],
   "source": [
    "#2\n",
    "print(f\"Hii {name} , Your age is {age} and city is {city}.\")"
   ]
  },
  {
   "cell_type": "markdown",
   "id": "313539d1-1eed-4ab1-b3f3-1fd2bff21ea6",
   "metadata": {},
   "source": [
    "How do you access a substring of a string using slicing?"
   ]
  },
  {
   "cell_type": "code",
   "execution_count": 19,
   "id": "c5b14569-ccca-4424-8e7d-b5ffc67e1a1b",
   "metadata": {},
   "outputs": [
    {
     "data": {
      "text/plain": [
       "'i sP'"
      ]
     },
     "execution_count": 19,
     "metadata": {},
     "output_type": "execute_result"
    }
   ],
   "source": [
    "# access a substring of string using slicing using index string[start:stop:step]\n",
    "string = \"This is Python Programming.\"\n",
    "string[2:10:2]"
   ]
  },
  {
   "cell_type": "code",
   "execution_count": 20,
   "id": "8075e0c0-8b6d-4677-82c0-9845fcf10140",
   "metadata": {},
   "outputs": [
    {
     "data": {
      "text/plain": [
       "'This '"
      ]
     },
     "execution_count": 20,
     "metadata": {},
     "output_type": "execute_result"
    }
   ],
   "source": [
    "string[:5]"
   ]
  },
  {
   "cell_type": "code",
   "execution_count": 23,
   "id": "f96fdacf-5ac3-42f4-8f43-ab312e0dbf43",
   "metadata": {},
   "outputs": [
    {
     "data": {
      "text/plain": [
       "'This'"
      ]
     },
     "execution_count": 23,
     "metadata": {},
     "output_type": "execute_result"
    }
   ],
   "source": [
    "# split into substring using split\n",
    "sub_strings = string.split()\n",
    "sub_strings[0]"
   ]
  },
  {
   "cell_type": "code",
   "execution_count": 25,
   "id": "d346f213-6217-412e-a569-71083c815ef2",
   "metadata": {},
   "outputs": [
    {
     "data": {
      "text/plain": [
       "'Python'"
      ]
     },
     "execution_count": 25,
     "metadata": {},
     "output_type": "execute_result"
    }
   ],
   "source": [
    "sub_strings[2]"
   ]
  },
  {
   "cell_type": "markdown",
   "id": "b5abaf11-08c8-4c7d-b16d-c72f125c5bc2",
   "metadata": {},
   "source": [
    "How can you remove specific characters from a string in Python?"
   ]
  },
  {
   "cell_type": "code",
   "execution_count": 26,
   "id": "34934835-522b-4d6e-859d-61bd2d6fba1a",
   "metadata": {},
   "outputs": [
    {
     "data": {
      "text/plain": [
       "'ne tw ne tw'"
      ]
     },
     "execution_count": 26,
     "metadata": {},
     "output_type": "execute_result"
    }
   ],
   "source": [
    "# replace \n",
    "\"one two one two\".replace(\"o\" , \"\")"
   ]
  },
  {
   "cell_type": "code",
   "execution_count": null,
   "id": "8df3990b-3504-41db-99af-ebba624fd6d1",
   "metadata": {},
   "outputs": [],
   "source": []
  },
  {
   "cell_type": "code",
   "execution_count": null,
   "id": "1e591a04-a4d0-4f05-b8bb-8d9cad029145",
   "metadata": {},
   "outputs": [],
   "source": []
  },
  {
   "cell_type": "code",
   "execution_count": null,
   "id": "ff6629af-f3b1-44bd-a1a4-c7c84ab19979",
   "metadata": {},
   "outputs": [],
   "source": []
  }
 ],
 "metadata": {
  "kernelspec": {
   "display_name": "Python [conda env:tfenv]",
   "language": "python",
   "name": "conda-env-tfenv-py"
  },
  "language_info": {
   "codemirror_mode": {
    "name": "ipython",
    "version": 3
   },
   "file_extension": ".py",
   "mimetype": "text/x-python",
   "name": "python",
   "nbconvert_exporter": "python",
   "pygments_lexer": "ipython3",
   "version": "3.10.18"
  }
 },
 "nbformat": 4,
 "nbformat_minor": 5
}
