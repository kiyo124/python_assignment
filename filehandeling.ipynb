{
 "cells": [
  {
   "cell_type": "code",
   "execution_count": 45,
   "id": "80b11035-775a-4b84-8c08-6c3631c29740",
   "metadata": {},
   "outputs": [
    {
     "name": "stdout",
     "output_type": "stream",
     "text": [
      "This is line1\n",
      "\n"
     ]
    }
   ],
   "source": [
    "file=open(\"myfile.txt\",\"r\")\n",
    "content=file.readline()\n",
    "file.close()\n",
    "print(content)"
   ]
  },
  {
   "cell_type": "code",
   "execution_count": 46,
   "id": "1be53a99-f57b-4ec0-b1d9-1f3521d29281",
   "metadata": {},
   "outputs": [
    {
     "data": {
      "text/plain": [
       "['This', 'is', 'line1']"
      ]
     },
     "execution_count": 46,
     "metadata": {},
     "output_type": "execute_result"
    }
   ],
   "source": [
    "content.split()"
   ]
  },
  {
   "cell_type": "code",
   "execution_count": 47,
   "id": "9c6baf1b-7343-4642-9a43-b7366fde050e",
   "metadata": {},
   "outputs": [],
   "source": [
    "file=open(\"myfile1.txt\",\"w\")\n",
    "file.writelines(\"hello this is java\")\n",
    "file.close()\n"
   ]
  },
  {
   "cell_type": "code",
   "execution_count": 52,
   "id": "62af07fc-0bb9-404b-b167-30aedfc8b8e5",
   "metadata": {},
   "outputs": [
    {
     "name": "stdout",
     "output_type": "stream",
     "text": [
      "lo this is javathis is tutedude this is python programming i am doing file handelingthis is tutedude this is python programming i am doing file handeling\n"
     ]
    }
   ],
   "source": [
    "file = open(\"myfile1.txt\" , \"a+\")\n",
    "file.writelines(\"this is tutedude this is python programming i am doing file handeling\")\n",
    "file.seek(3)\n",
    "content=file.read()\n",
    "print(content)\n",
    "file.close()"
   ]
  },
  {
   "cell_type": "code",
   "execution_count": 49,
   "id": "266b3b44-7bb0-4c00-94d0-751ab5d1ccd2",
   "metadata": {},
   "outputs": [
    {
     "name": "stdout",
     "output_type": "stream",
     "text": [
      "['hello this is javathis is tutedude this is python programming i am doing file handeling']\n"
     ]
    }
   ],
   "source": [
    "file=open(\"myfile1.txt\",\"r\")\n",
    "content=file.readlines()\n",
    "file.close()\n",
    "print(content)"
   ]
  },
  {
   "cell_type": "code",
   "execution_count": 50,
   "id": "13695d4f-5f31-4d07-b84d-10d7e767355d",
   "metadata": {},
   "outputs": [
    {
     "data": {
      "text/plain": [
       "b'This is line1\\nThis is line2\\nThis is line3\\n'"
      ]
     },
     "execution_count": 50,
     "metadata": {},
     "output_type": "execute_result"
    }
   ],
   "source": [
    "file=open(\"myfile.txt\" , \"rb\")\n",
    "file.read()"
   ]
  },
  {
   "cell_type": "code",
   "execution_count": 51,
   "id": "ec51039f-3794-4ba8-ad78-86d673bf2a67",
   "metadata": {},
   "outputs": [],
   "source": [
    "file.close()"
   ]
  },
  {
   "cell_type": "code",
   "execution_count": 1,
   "id": "322fe146-5494-4c18-ac78-6593eb8b8a7d",
   "metadata": {},
   "outputs": [],
   "source": [
    "with open(\"myfile.txt\") as file:\n",
    "    content=file.read()"
   ]
  },
  {
   "cell_type": "code",
   "execution_count": 2,
   "id": "0c7d88a8-ae92-41a7-821b-2d80d3a7d4d9",
   "metadata": {},
   "outputs": [
    {
     "name": "stdout",
     "output_type": "stream",
     "text": [
      "This is line1\n",
      "This is line2\n",
      "This is line3\n",
      "\n"
     ]
    }
   ],
   "source": [
    "print(content)"
   ]
  },
  {
   "cell_type": "code",
   "execution_count": 6,
   "id": "81997e17-5399-4580-b446-c75ec1628b07",
   "metadata": {},
   "outputs": [
    {
     "name": "stdout",
     "output_type": "stream",
     "text": [
      "b'This is line1\\nThis is line2\\nThis is line3\\n'\n"
     ]
    }
   ],
   "source": [
    "with open(\"myfile.txt\",\"rb\") as file:\n",
    "    content=file.read()\n",
    "print(content)"
   ]
  },
  {
   "cell_type": "markdown",
   "id": "b1c7c11c-c239-487c-9c74-406e692fd32c",
   "metadata": {},
   "source": [
    "Exercise for text file handeling"
   ]
  },
  {
   "cell_type": "code",
   "execution_count": 7,
   "id": "949ce292-4d56-49fd-af0a-fb7175184c9b",
   "metadata": {},
   "outputs": [],
   "source": [
    "import webbrowser"
   ]
  },
  {
   "cell_type": "code",
   "execution_count": 8,
   "id": "8734af21-d464-44b0-9c06-6826766dd382",
   "metadata": {},
   "outputs": [
    {
     "name": "stdin",
     "output_type": "stream",
     "text": [
      "Enter your password 1234\n"
     ]
    }
   ],
   "source": [
    "def password(user_password):\n",
    "    with open(\"password.txt\") as file:\n",
    "        content = file.read()\n",
    "    if content==user_password:\n",
    "        webbrowser.open(\"https://www.google.com/?zx=1759227804682&no_sw_cr=1\")\n",
    "    else:\n",
    "        print(\"Your password is wrong\")\n",
    "if __name__==\"__main__\":\n",
    "    try:\n",
    "        user_password=input(\"Enter your password\")\n",
    "        password(user_password)\n",
    "    except Exception as e:\n",
    "        print(\"Some thing is wrong\")"
   ]
  },
  {
   "cell_type": "markdown",
   "id": "deb83b36-d0dc-4d7e-94e6-419b8e894a8f",
   "metadata": {},
   "source": [
    "task 2"
   ]
  },
  {
   "cell_type": "code",
   "execution_count": null,
   "id": "a8121784-26ac-48d2-83ae-16b7ef5066a9",
   "metadata": {},
   "outputs": [],
   "source": []
  },
  {
   "cell_type": "code",
   "execution_count": null,
   "id": "75e77294-56a9-4356-b84f-feed74016ce1",
   "metadata": {},
   "outputs": [],
   "source": []
  },
  {
   "cell_type": "code",
   "execution_count": 19,
   "id": "3ee6d527-f11e-4659-9dff-60cf0ae62cb4",
   "metadata": {},
   "outputs": [
    {
     "name": "stdin",
     "output_type": "stream",
     "text": [
      "Enter the username aashish\n",
      "Enter the password fartyal\n"
     ]
    },
    {
     "name": "stdout",
     "output_type": "stream",
     "text": [
      "account Created \n",
      "aashish\n",
      "fartyal\n"
     ]
    },
    {
     "name": "stdin",
     "output_type": "stream",
     "text": [
      "Enter your user name for login aashish\n",
      "Enter the password for login fartyal\n"
     ]
    },
    {
     "name": "stdout",
     "output_type": "stream",
     "text": [
      "login Sucessfully\n"
     ]
    }
   ],
   "source": [
    "username=input(\"Enter the username\")\n",
    "password=input(\"Enter the password\")\n",
    "with open(\"username_file.txt\",\"w+\") as file:\n",
    "    file.write(username)\n",
    "    file.seek(0)\n",
    "    content=file.read()\n",
    "with open(\"userpassword_file.txt\",\"w+\") as file:\n",
    "    file.write(password)\n",
    "    file.seek(0)\n",
    "    content2=file.read()\n",
    "print(\"account Created \")\n",
    "\n",
    "username=input(\"Enter your user name for login\")\n",
    "password=input(\"Enter the password for login\")\n",
    "if content==username and content2==password:\n",
    "    print(\"login Sucessfully\")\n",
    "else:\n",
    "    print(\"Access denie: Username or password is incorrect\")\n"
   ]
  },
  {
   "cell_type": "code",
   "execution_count": 3,
   "id": "fe22b3d7-89de-4715-8d2e-b20a777adb60",
   "metadata": {},
   "outputs": [
    {
     "name": "stdout",
     "output_type": "stream",
     "text": [
      "Input: [2, 7, 11, 15], Target: 9\n",
      "Indices: [0, 1]\n",
      "\n",
      "Input: [3, 2, 4], Target: 6\n",
      "Indices: [1, 2]\n"
     ]
    }
   ],
   "source": [
    "from typing import List\n",
    "\n",
    "class Solution:\n",
    "    def twoSum(self, nums: List[int], target: int) :\n",
    "        hashmap = {}\n",
    "        for i in range(len(nums)):\n",
    "            complement = target - nums[i]\n",
    "            \n",
    "           \n",
    "            if complement in hashmap:\n",
    "                \n",
    "                return [hashmap[complement], i]\n",
    "                \n",
    "            \n",
    "            hashmap[nums[i]] = i\n",
    "            \n",
    "        \n",
    "        return []\n",
    "\n",
    "ob = Solution()\n",
    "\n",
    "nums_list = [2, 7, 11, 15]\n",
    "target_val = 9\n",
    "\n",
    "result = ob.twoSum(nums_list, target_val)\n",
    "\n",
    "\n",
    "print(f\"Input: {nums_list}, Target: {target_val}\")\n",
    "print(f\"Indices: {result}\")\n",
    "\n",
    "nums_list_2 = [3, 2, 4]\n",
    "target_val_2 = 6\n",
    "result_2 = ob.twoSum(nums_list_2, target_val_2)\n",
    "print(f\"\\nInput: {nums_list_2}, Target: {target_val_2}\")\n",
    "print(f\"Indices: {result_2}\")"
   ]
  },
  {
   "cell_type": "code",
   "execution_count": null,
   "id": "894fcfa1-efdd-4e1a-9f27-051371e8e073",
   "metadata": {},
   "outputs": [],
   "source": []
  },
  {
   "cell_type": "code",
   "execution_count": null,
   "id": "a34411c0-edbd-420c-88f6-bccdcd142d86",
   "metadata": {},
   "outputs": [],
   "source": []
  },
  {
   "cell_type": "code",
   "execution_count": null,
   "id": "dc82fbbb-c96e-4801-bce0-1c3bbe67d63b",
   "metadata": {},
   "outputs": [],
   "source": []
  },
  {
   "cell_type": "code",
   "execution_count": null,
   "id": "0729f9e8-1891-4d06-9b3e-8ec72d5762eb",
   "metadata": {},
   "outputs": [],
   "source": []
  },
  {
   "cell_type": "code",
   "execution_count": null,
   "id": "088f0e23-94e9-4fce-a573-7e8eb670c30b",
   "metadata": {},
   "outputs": [],
   "source": []
  },
  {
   "cell_type": "code",
   "execution_count": null,
   "id": "3021b93d-8099-4baa-8c30-9f75d32d83c2",
   "metadata": {},
   "outputs": [],
   "source": []
  },
  {
   "cell_type": "code",
   "execution_count": null,
   "id": "84d41f2d-2b54-4c93-9f44-97108ae57fd8",
   "metadata": {},
   "outputs": [],
   "source": []
  }
 ],
 "metadata": {
  "kernelspec": {
   "display_name": "Python 3 (ipykernel)",
   "language": "python",
   "name": "python3"
  },
  "language_info": {
   "codemirror_mode": {
    "name": "ipython",
    "version": 3
   },
   "file_extension": ".py",
   "mimetype": "text/x-python",
   "name": "python",
   "nbconvert_exporter": "python",
   "pygments_lexer": "ipython3",
   "version": "3.13.5"
  }
 },
 "nbformat": 4,
 "nbformat_minor": 5
}
